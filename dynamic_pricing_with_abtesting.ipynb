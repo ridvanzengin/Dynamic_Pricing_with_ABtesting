{
 "cells": [
  {
   "cell_type": "markdown",
   "metadata": {},
   "source": [
    "## Dynamic Pricing - A/B Testing - Sales Simulation\n"
   ]
  },
  {
   "cell_type": "markdown",
   "metadata": {},
   "source": [
    "##### In this project I tried to apply A/B Testing to find out optimum price with a confidence intervall and simulate sales with different prices. Our goal is to ensure the maximum profit as predicted :)"
   ]
  },
  {
   "cell_type": "markdown",
   "metadata": {},
   "source": [
    "##### A/B Testing is done without using # ANOVA because of educational purposes"
   ]
  },
  {
   "cell_type": "markdown",
   "metadata": {},
   "source": [
    "##### The data we are going to use is consist of 2 columns which are Shop_id and Price.\n",
    "##### The Shop_id represents 6 different shops and price is the amount that how much a customer wish to pay for a particular Item\n",
    "##### Data set is created gathering survey answers taken place different shops.\n",
    "##### This project considers that survey participants answered the questions with rationality"
   ]
  },
  {
   "cell_type": "markdown",
   "metadata": {},
   "source": [
    "### Imports"
   ]
  },
  {
   "cell_type": "code",
   "execution_count": 50,
   "metadata": {},
   "outputs": [],
   "source": [
    "import pandas as pd\n",
    "from scipy import stats\n",
    "from scipy.stats import shapiro\n",
    "import statsmodels.stats.api as sms\n"
   ]
  },
  {
   "cell_type": "markdown",
   "metadata": {},
   "source": [
    "### Data Prepaeration"
   ]
  },
  {
   "cell_type": "code",
   "execution_count": 51,
   "metadata": {},
   "outputs": [],
   "source": [
    "df= pd.read_csv(\"data.csv\")"
   ]
  },
  {
   "cell_type": "code",
   "execution_count": 52,
   "metadata": {},
   "outputs": [
    {
     "data": {
      "text/html": [
       "<div>\n",
       "<style scoped>\n",
       "    .dataframe tbody tr th:only-of-type {\n",
       "        vertical-align: middle;\n",
       "    }\n",
       "\n",
       "    .dataframe tbody tr th {\n",
       "        vertical-align: top;\n",
       "    }\n",
       "\n",
       "    .dataframe thead th {\n",
       "        text-align: right;\n",
       "    }\n",
       "</style>\n",
       "<table border=\"1\" class=\"dataframe\">\n",
       "  <thead>\n",
       "    <tr style=\"text-align: right;\">\n",
       "      <th></th>\n",
       "      <th>shop_id</th>\n",
       "      <th>price</th>\n",
       "    </tr>\n",
       "  </thead>\n",
       "  <tbody>\n",
       "    <tr>\n",
       "      <th>0</th>\n",
       "      <td>shop_4</td>\n",
       "      <td>32.117753</td>\n",
       "    </tr>\n",
       "    <tr>\n",
       "      <th>1</th>\n",
       "      <td>shop_3</td>\n",
       "      <td>30.711370</td>\n",
       "    </tr>\n",
       "    <tr>\n",
       "      <th>2</th>\n",
       "      <td>shop_3</td>\n",
       "      <td>31.572607</td>\n",
       "    </tr>\n",
       "    <tr>\n",
       "      <th>3</th>\n",
       "      <td>shop_4</td>\n",
       "      <td>34.543840</td>\n",
       "    </tr>\n",
       "    <tr>\n",
       "      <th>4</th>\n",
       "      <td>shop_4</td>\n",
       "      <td>47.205824</td>\n",
       "    </tr>\n",
       "  </tbody>\n",
       "</table>\n",
       "</div>"
      ],
      "text/plain": [
       "  shop_id      price\n",
       "0  shop_4  32.117753\n",
       "1  shop_3  30.711370\n",
       "2  shop_3  31.572607\n",
       "3  shop_4  34.543840\n",
       "4  shop_4  47.205824"
      ]
     },
     "execution_count": 52,
     "metadata": {},
     "output_type": "execute_result"
    }
   ],
   "source": [
    "df.head()"
   ]
  },
  {
   "cell_type": "code",
   "execution_count": 53,
   "metadata": {},
   "outputs": [
    {
     "data": {
      "text/plain": [
       "shop_4    1661\n",
       "shop_6     733\n",
       "shop_3     615\n",
       "shop_2     144\n",
       "shop_5     129\n",
       "shop_1      97\n",
       "Name: shop_id, dtype: int64"
      ]
     },
     "execution_count": 53,
     "metadata": {},
     "output_type": "execute_result"
    }
   ],
   "source": [
    "df.shop_id.value_counts()"
   ]
  },
  {
   "cell_type": "markdown",
   "metadata": {},
   "source": [
    "##### As we can see here the survey participants are not balanced between shops. But we will go on as if it is balanced"
   ]
  },
  {
   "cell_type": "markdown",
   "metadata": {},
   "source": [
    "##### Lets see what is the mean of price in different shops"
   ]
  },
  {
   "cell_type": "code",
   "execution_count": 54,
   "metadata": {},
   "outputs": [
    {
     "data": {
      "text/html": [
       "<div>\n",
       "<style scoped>\n",
       "    .dataframe tbody tr th:only-of-type {\n",
       "        vertical-align: middle;\n",
       "    }\n",
       "\n",
       "    .dataframe tbody tr th {\n",
       "        vertical-align: top;\n",
       "    }\n",
       "\n",
       "    .dataframe thead th {\n",
       "        text-align: right;\n",
       "    }\n",
       "</style>\n",
       "<table border=\"1\" class=\"dataframe\">\n",
       "  <thead>\n",
       "    <tr style=\"text-align: right;\">\n",
       "      <th></th>\n",
       "      <th>price</th>\n",
       "    </tr>\n",
       "    <tr>\n",
       "      <th>shop_id</th>\n",
       "      <th></th>\n",
       "    </tr>\n",
       "  </thead>\n",
       "  <tbody>\n",
       "    <tr>\n",
       "      <th>shop_1</th>\n",
       "      <td>36.175498</td>\n",
       "    </tr>\n",
       "    <tr>\n",
       "      <th>shop_2</th>\n",
       "      <td>35.693170</td>\n",
       "    </tr>\n",
       "    <tr>\n",
       "      <th>shop_3</th>\n",
       "      <td>35.477261</td>\n",
       "    </tr>\n",
       "    <tr>\n",
       "      <th>shop_4</th>\n",
       "      <td>43.872913</td>\n",
       "    </tr>\n",
       "    <tr>\n",
       "      <th>shop_5</th>\n",
       "      <td>37.443592</td>\n",
       "    </tr>\n",
       "    <tr>\n",
       "      <th>shop_6</th>\n",
       "      <td>40.376575</td>\n",
       "    </tr>\n",
       "  </tbody>\n",
       "</table>\n",
       "</div>"
      ],
      "text/plain": [
       "             price\n",
       "shop_id           \n",
       "shop_1   36.175498\n",
       "shop_2   35.693170\n",
       "shop_3   35.477261\n",
       "shop_4   43.872913\n",
       "shop_5   37.443592\n",
       "shop_6   40.376575"
      ]
     },
     "execution_count": 54,
     "metadata": {},
     "output_type": "execute_result"
    }
   ],
   "source": [
    "df.groupby(\"shop_id\").agg({\"price\": \"mean\"})"
   ]
  },
  {
   "cell_type": "code",
   "execution_count": 55,
   "metadata": {},
   "outputs": [
    {
     "data": {
      "text/html": [
       "<div>\n",
       "<style scoped>\n",
       "    .dataframe tbody tr th:only-of-type {\n",
       "        vertical-align: middle;\n",
       "    }\n",
       "\n",
       "    .dataframe tbody tr th {\n",
       "        vertical-align: top;\n",
       "    }\n",
       "\n",
       "    .dataframe thead th {\n",
       "        text-align: right;\n",
       "    }\n",
       "</style>\n",
       "<table border=\"1\" class=\"dataframe\">\n",
       "  <thead>\n",
       "    <tr style=\"text-align: right;\">\n",
       "      <th></th>\n",
       "      <th>count</th>\n",
       "      <th>mean</th>\n",
       "      <th>std</th>\n",
       "      <th>min</th>\n",
       "      <th>1%</th>\n",
       "      <th>5%</th>\n",
       "      <th>10%</th>\n",
       "      <th>25%</th>\n",
       "      <th>50%</th>\n",
       "      <th>75%</th>\n",
       "      <th>90%</th>\n",
       "      <th>95%</th>\n",
       "      <th>99%</th>\n",
       "      <th>max</th>\n",
       "    </tr>\n",
       "  </thead>\n",
       "  <tbody>\n",
       "    <tr>\n",
       "      <th>price</th>\n",
       "      <td>3379.0</td>\n",
       "      <td>40.771387</td>\n",
       "      <td>19.730179</td>\n",
       "      <td>10.0</td>\n",
       "      <td>30.0</td>\n",
       "      <td>30.0</td>\n",
       "      <td>30.0</td>\n",
       "      <td>31.802522</td>\n",
       "      <td>34.744389</td>\n",
       "      <td>40.569827</td>\n",
       "      <td>56.921335</td>\n",
       "      <td>74.453248</td>\n",
       "      <td>135.848659</td>\n",
       "      <td>205.052944</td>\n",
       "    </tr>\n",
       "  </tbody>\n",
       "</table>\n",
       "</div>"
      ],
      "text/plain": [
       "        count       mean        std   min    1%    5%   10%        25%  \\\n",
       "price  3379.0  40.771387  19.730179  10.0  30.0  30.0  30.0  31.802522   \n",
       "\n",
       "             50%        75%        90%        95%         99%         max  \n",
       "price  34.744389  40.569827  56.921335  74.453248  135.848659  205.052944  "
      ]
     },
     "execution_count": 55,
     "metadata": {},
     "output_type": "execute_result"
    }
   ],
   "source": [
    "df.describe([0.01, 0.05, 0.10, 0.25, 0.50, 0.75, 0.90, 0.95, 0.99]).T"
   ]
  },
  {
   "cell_type": "markdown",
   "metadata": {},
   "source": [
    "##### When we look at the variance of price variable we can see that our assumption regarding answers of survey participants seems allright with a couple of exception.\n",
    "\n",
    "##### Lets get rid of prices higher than 100"
   ]
  },
  {
   "cell_type": "code",
   "execution_count": 56,
   "metadata": {},
   "outputs": [],
   "source": [
    "df=df[df.price <= 100]"
   ]
  },
  {
   "cell_type": "code",
   "execution_count": 57,
   "metadata": {},
   "outputs": [
    {
     "data": {
      "text/html": [
       "<div>\n",
       "<style scoped>\n",
       "    .dataframe tbody tr th:only-of-type {\n",
       "        vertical-align: middle;\n",
       "    }\n",
       "\n",
       "    .dataframe tbody tr th {\n",
       "        vertical-align: top;\n",
       "    }\n",
       "\n",
       "    .dataframe thead th {\n",
       "        text-align: right;\n",
       "    }\n",
       "</style>\n",
       "<table border=\"1\" class=\"dataframe\">\n",
       "  <thead>\n",
       "    <tr style=\"text-align: right;\">\n",
       "      <th></th>\n",
       "      <th>count</th>\n",
       "      <th>mean</th>\n",
       "      <th>std</th>\n",
       "      <th>min</th>\n",
       "      <th>1%</th>\n",
       "      <th>5%</th>\n",
       "      <th>10%</th>\n",
       "      <th>25%</th>\n",
       "      <th>50%</th>\n",
       "      <th>75%</th>\n",
       "      <th>90%</th>\n",
       "      <th>95%</th>\n",
       "      <th>99%</th>\n",
       "      <th>max</th>\n",
       "    </tr>\n",
       "  </thead>\n",
       "  <tbody>\n",
       "    <tr>\n",
       "      <th>price</th>\n",
       "      <td>3292.0</td>\n",
       "      <td>38.284972</td>\n",
       "      <td>11.657494</td>\n",
       "      <td>10.0</td>\n",
       "      <td>30.0</td>\n",
       "      <td>30.0</td>\n",
       "      <td>30.0</td>\n",
       "      <td>31.672294</td>\n",
       "      <td>34.678475</td>\n",
       "      <td>38.528301</td>\n",
       "      <td>53.188295</td>\n",
       "      <td>65.198083</td>\n",
       "      <td>88.622812</td>\n",
       "      <td>99.169972</td>\n",
       "    </tr>\n",
       "  </tbody>\n",
       "</table>\n",
       "</div>"
      ],
      "text/plain": [
       "        count       mean        std   min    1%    5%   10%        25%  \\\n",
       "price  3292.0  38.284972  11.657494  10.0  30.0  30.0  30.0  31.672294   \n",
       "\n",
       "             50%        75%        90%        95%        99%        max  \n",
       "price  34.678475  38.528301  53.188295  65.198083  88.622812  99.169972  "
      ]
     },
     "execution_count": 57,
     "metadata": {},
     "output_type": "execute_result"
    }
   ],
   "source": [
    "df.describe([0.01, 0.05, 0.10, 0.25, 0.50, 0.75, 0.90, 0.95, 0.99]).T"
   ]
  },
  {
   "cell_type": "markdown",
   "metadata": {},
   "source": [
    "##### Lets seperate shops for Testing"
   ]
  },
  {
   "cell_type": "code",
   "execution_count": 58,
   "metadata": {},
   "outputs": [],
   "source": [
    "shop_1 = df[(df[\"shop_id\"] == \"shop_1\")]\n",
    "shop_2 = df[(df[\"shop_id\"] == \"shop_2\")]\n",
    "shop_3 = df[(df[\"shop_id\"] == \"shop_3\")]\n",
    "shop_4 = df[(df[\"shop_id\"] == \"shop_4\")]\n",
    "shop_5 = df[(df[\"shop_id\"] == \"shop_5\")]\n",
    "shop_6 = df[(df[\"shop_id\"] == \"shop_6\")]\n"
   ]
  },
  {
   "cell_type": "markdown",
   "metadata": {},
   "source": [
    "### A/B Testing"
   ]
  },
  {
   "cell_type": "markdown",
   "metadata": {},
   "source": [
    "##### To decide parametric or non-parametric test we need to check the distribution and varience of each shop values \n",
    "##### If the values are normally distributed. We will use independent t-test (parametric). If not we will use Mann–Whitney U test (non-parametric)\n"
   ]
  },
  {
   "cell_type": "markdown",
   "metadata": {},
   "source": [
    "#### Normal Distribution Test"
   ]
  },
  {
   "cell_type": "markdown",
   "metadata": {},
   "source": [
    "##### Our hypothesises\n",
    "##### H0 = Price variable is normally distributed\n",
    "##### H1 = Price variable is not normally distributed"
   ]
  },
  {
   "cell_type": "code",
   "execution_count": 59,
   "metadata": {},
   "outputs": [
    {
     "name": "stdout",
     "output_type": "stream",
     "text": [
      "Test statistics = 0.6190, p-value = 0.0000\n",
      "Test statistics = 0.5513, p-value = 0.0000\n",
      "Test statistics = 0.4935, p-value = 0.0000\n",
      "Test statistics = 0.7639, p-value = 0.0000\n",
      "Test statistics = 0.6382, p-value = 0.0000\n",
      "Test statistics = 0.6631, p-value = 0.0000\n"
     ]
    }
   ],
   "source": [
    "shop_list = [shop_1,shop_2,shop_3,shop_4,shop_5,shop_6]\n",
    "for i in shop_list:\n",
    "    test_statistics, pvalue = shapiro(i[\"price\"])\n",
    "    print('Test statistics = %.4f, p-value = %.4f' % (test_statistics, pvalue))"
   ]
  },
  {
   "cell_type": "markdown",
   "metadata": {},
   "source": [
    "##### We rejected H0 hypothesis. Because, as you can see the p-values are smaller than \"0,05\""
   ]
  },
  {
   "cell_type": "markdown",
   "metadata": {},
   "source": [
    "##### In this case we need to use Mann–Whitney U test. If the data is not normally distributed we do not have to check the variance homogeneity."
   ]
  },
  {
   "cell_type": "markdown",
   "metadata": {},
   "source": [
    "#### Mann–Whitney U test"
   ]
  },
  {
   "cell_type": "markdown",
   "metadata": {},
   "source": [
    "##### Our hypothesises\n",
    "##### H0 = Statisticly there is not a difference between prices accros shops\n",
    "##### H1 = Statisticly there is a difference between prices accros shops"
   ]
  },
  {
   "cell_type": "code",
   "execution_count": 60,
   "metadata": {},
   "outputs": [],
   "source": [
    "shop_list = [shop_1,shop_2,shop_3,shop_4,shop_5,shop_6] # The same shop list we used abave\n",
    "shop_names = [\"shop_1\",\"shop_2\",\"shop_3\",\"shop_4\",\"shop_5\",\"shop_6\"] # shop names as string\n",
    "test_stat = []\n",
    "p_values = []\n",
    "first_shop =[]\n",
    "second_shop = []\n",
    "for i in range(0, len(shop_list)): # Here we create a nested for loop to provide all shop combinatios crosswise\n",
    "    for j in range(0, len(shop_list)):\n",
    "        if i == j:                      # Here we are making sure that shops are not crossed themselves\n",
    "            continue\n",
    "        test_statistics, pvalue = stats.mannwhitneyu(shop_list[i][\"price\"], shop_list[j][\"price\"])\n",
    "        test_stat.append(test_statistics)\n",
    "        p_values.append(pvalue.round(4))\n",
    "        first_shop.append(shop_names[i]) \n",
    "        second_shop.append(shop_names[j])\n",
    "        \n",
    "p_value_table = pd.DataFrame({\"first_shop\":first_shop,\"second_shop\":second_shop,\"test_stat\": test_stat, \"p_values\":p_values})\n",
    "# Here we are creating a data frame with the lists appended above"
   ]
  },
  {
   "cell_type": "markdown",
   "metadata": {},
   "source": [
    "##### Lets see our p_value table loks like"
   ]
  },
  {
   "cell_type": "code",
   "execution_count": 61,
   "metadata": {},
   "outputs": [
    {
     "data": {
      "text/html": [
       "<div>\n",
       "<style scoped>\n",
       "    .dataframe tbody tr th:only-of-type {\n",
       "        vertical-align: middle;\n",
       "    }\n",
       "\n",
       "    .dataframe tbody tr th {\n",
       "        vertical-align: top;\n",
       "    }\n",
       "\n",
       "    .dataframe thead th {\n",
       "        text-align: right;\n",
       "    }\n",
       "</style>\n",
       "<table border=\"1\" class=\"dataframe\">\n",
       "  <thead>\n",
       "    <tr style=\"text-align: right;\">\n",
       "      <th></th>\n",
       "      <th>first_shop</th>\n",
       "      <th>second_shop</th>\n",
       "      <th>test_stat</th>\n",
       "      <th>p_values</th>\n",
       "    </tr>\n",
       "  </thead>\n",
       "  <tbody>\n",
       "    <tr>\n",
       "      <th>0</th>\n",
       "      <td>shop_1</td>\n",
       "      <td>shop_2</td>\n",
       "      <td>5010.0</td>\n",
       "      <td>0.0001</td>\n",
       "    </tr>\n",
       "    <tr>\n",
       "      <th>1</th>\n",
       "      <td>shop_1</td>\n",
       "      <td>shop_3</td>\n",
       "      <td>29424.0</td>\n",
       "      <td>0.4252</td>\n",
       "    </tr>\n",
       "    <tr>\n",
       "      <th>2</th>\n",
       "      <td>shop_1</td>\n",
       "      <td>shop_4</td>\n",
       "      <td>60158.0</td>\n",
       "      <td>0.0001</td>\n",
       "    </tr>\n",
       "    <tr>\n",
       "      <th>3</th>\n",
       "      <td>shop_1</td>\n",
       "      <td>shop_5</td>\n",
       "      <td>6121.0</td>\n",
       "      <td>0.3905</td>\n",
       "    </tr>\n",
       "    <tr>\n",
       "      <th>4</th>\n",
       "      <td>shop_1</td>\n",
       "      <td>shop_6</td>\n",
       "      <td>34006.0</td>\n",
       "      <td>0.4124</td>\n",
       "    </tr>\n",
       "    <tr>\n",
       "      <th>5</th>\n",
       "      <td>shop_2</td>\n",
       "      <td>shop_1</td>\n",
       "      <td>5010.0</td>\n",
       "      <td>0.0001</td>\n",
       "    </tr>\n",
       "    <tr>\n",
       "      <th>6</th>\n",
       "      <td>shop_2</td>\n",
       "      <td>shop_3</td>\n",
       "      <td>31313.0</td>\n",
       "      <td>0.0000</td>\n",
       "    </tr>\n",
       "    <tr>\n",
       "      <th>7</th>\n",
       "      <td>shop_2</td>\n",
       "      <td>shop_4</td>\n",
       "      <td>65110.0</td>\n",
       "      <td>0.0000</td>\n",
       "    </tr>\n",
       "    <tr>\n",
       "      <th>8</th>\n",
       "      <td>shop_2</td>\n",
       "      <td>shop_5</td>\n",
       "      <td>6575.5</td>\n",
       "      <td>0.0000</td>\n",
       "    </tr>\n",
       "    <tr>\n",
       "      <th>9</th>\n",
       "      <td>shop_2</td>\n",
       "      <td>shop_6</td>\n",
       "      <td>36586.0</td>\n",
       "      <td>0.0000</td>\n",
       "    </tr>\n",
       "    <tr>\n",
       "      <th>10</th>\n",
       "      <td>shop_3</td>\n",
       "      <td>shop_1</td>\n",
       "      <td>29424.0</td>\n",
       "      <td>0.4252</td>\n",
       "    </tr>\n",
       "    <tr>\n",
       "      <th>11</th>\n",
       "      <td>shop_3</td>\n",
       "      <td>shop_2</td>\n",
       "      <td>31313.0</td>\n",
       "      <td>0.0000</td>\n",
       "    </tr>\n",
       "    <tr>\n",
       "      <th>12</th>\n",
       "      <td>shop_3</td>\n",
       "      <td>shop_4</td>\n",
       "      <td>370034.5</td>\n",
       "      <td>0.0000</td>\n",
       "    </tr>\n",
       "    <tr>\n",
       "      <th>13</th>\n",
       "      <td>shop_3</td>\n",
       "      <td>shop_5</td>\n",
       "      <td>38807.0</td>\n",
       "      <td>0.3597</td>\n",
       "    </tr>\n",
       "    <tr>\n",
       "      <th>14</th>\n",
       "      <td>shop_3</td>\n",
       "      <td>shop_6</td>\n",
       "      <td>213697.0</td>\n",
       "      <td>0.2546</td>\n",
       "    </tr>\n",
       "    <tr>\n",
       "      <th>15</th>\n",
       "      <td>shop_4</td>\n",
       "      <td>shop_1</td>\n",
       "      <td>60158.0</td>\n",
       "      <td>0.0001</td>\n",
       "    </tr>\n",
       "    <tr>\n",
       "      <th>16</th>\n",
       "      <td>shop_4</td>\n",
       "      <td>shop_2</td>\n",
       "      <td>65110.0</td>\n",
       "      <td>0.0000</td>\n",
       "    </tr>\n",
       "    <tr>\n",
       "      <th>17</th>\n",
       "      <td>shop_4</td>\n",
       "      <td>shop_3</td>\n",
       "      <td>370034.5</td>\n",
       "      <td>0.0000</td>\n",
       "    </tr>\n",
       "    <tr>\n",
       "      <th>18</th>\n",
       "      <td>shop_4</td>\n",
       "      <td>shop_5</td>\n",
       "      <td>83360.5</td>\n",
       "      <td>0.0001</td>\n",
       "    </tr>\n",
       "    <tr>\n",
       "      <th>19</th>\n",
       "      <td>shop_4</td>\n",
       "      <td>shop_6</td>\n",
       "      <td>454601.0</td>\n",
       "      <td>0.0000</td>\n",
       "    </tr>\n",
       "    <tr>\n",
       "      <th>20</th>\n",
       "      <td>shop_5</td>\n",
       "      <td>shop_1</td>\n",
       "      <td>6121.0</td>\n",
       "      <td>0.3905</td>\n",
       "    </tr>\n",
       "    <tr>\n",
       "      <th>21</th>\n",
       "      <td>shop_5</td>\n",
       "      <td>shop_2</td>\n",
       "      <td>6575.5</td>\n",
       "      <td>0.0000</td>\n",
       "    </tr>\n",
       "    <tr>\n",
       "      <th>22</th>\n",
       "      <td>shop_5</td>\n",
       "      <td>shop_3</td>\n",
       "      <td>38807.0</td>\n",
       "      <td>0.3597</td>\n",
       "    </tr>\n",
       "    <tr>\n",
       "      <th>23</th>\n",
       "      <td>shop_5</td>\n",
       "      <td>shop_4</td>\n",
       "      <td>83360.5</td>\n",
       "      <td>0.0001</td>\n",
       "    </tr>\n",
       "    <tr>\n",
       "      <th>24</th>\n",
       "      <td>shop_5</td>\n",
       "      <td>shop_6</td>\n",
       "      <td>45675.0</td>\n",
       "      <td>0.4710</td>\n",
       "    </tr>\n",
       "    <tr>\n",
       "      <th>25</th>\n",
       "      <td>shop_6</td>\n",
       "      <td>shop_1</td>\n",
       "      <td>34006.0</td>\n",
       "      <td>0.4124</td>\n",
       "    </tr>\n",
       "    <tr>\n",
       "      <th>26</th>\n",
       "      <td>shop_6</td>\n",
       "      <td>shop_2</td>\n",
       "      <td>36586.0</td>\n",
       "      <td>0.0000</td>\n",
       "    </tr>\n",
       "    <tr>\n",
       "      <th>27</th>\n",
       "      <td>shop_6</td>\n",
       "      <td>shop_3</td>\n",
       "      <td>213697.0</td>\n",
       "      <td>0.2546</td>\n",
       "    </tr>\n",
       "    <tr>\n",
       "      <th>28</th>\n",
       "      <td>shop_6</td>\n",
       "      <td>shop_4</td>\n",
       "      <td>454601.0</td>\n",
       "      <td>0.0000</td>\n",
       "    </tr>\n",
       "    <tr>\n",
       "      <th>29</th>\n",
       "      <td>shop_6</td>\n",
       "      <td>shop_5</td>\n",
       "      <td>45675.0</td>\n",
       "      <td>0.4710</td>\n",
       "    </tr>\n",
       "  </tbody>\n",
       "</table>\n",
       "</div>"
      ],
      "text/plain": [
       "   first_shop second_shop  test_stat  p_values\n",
       "0      shop_1      shop_2     5010.0    0.0001\n",
       "1      shop_1      shop_3    29424.0    0.4252\n",
       "2      shop_1      shop_4    60158.0    0.0001\n",
       "3      shop_1      shop_5     6121.0    0.3905\n",
       "4      shop_1      shop_6    34006.0    0.4124\n",
       "5      shop_2      shop_1     5010.0    0.0001\n",
       "6      shop_2      shop_3    31313.0    0.0000\n",
       "7      shop_2      shop_4    65110.0    0.0000\n",
       "8      shop_2      shop_5     6575.5    0.0000\n",
       "9      shop_2      shop_6    36586.0    0.0000\n",
       "10     shop_3      shop_1    29424.0    0.4252\n",
       "11     shop_3      shop_2    31313.0    0.0000\n",
       "12     shop_3      shop_4   370034.5    0.0000\n",
       "13     shop_3      shop_5    38807.0    0.3597\n",
       "14     shop_3      shop_6   213697.0    0.2546\n",
       "15     shop_4      shop_1    60158.0    0.0001\n",
       "16     shop_4      shop_2    65110.0    0.0000\n",
       "17     shop_4      shop_3   370034.5    0.0000\n",
       "18     shop_4      shop_5    83360.5    0.0001\n",
       "19     shop_4      shop_6   454601.0    0.0000\n",
       "20     shop_5      shop_1     6121.0    0.3905\n",
       "21     shop_5      shop_2     6575.5    0.0000\n",
       "22     shop_5      shop_3    38807.0    0.3597\n",
       "23     shop_5      shop_4    83360.5    0.0001\n",
       "24     shop_5      shop_6    45675.0    0.4710\n",
       "25     shop_6      shop_1    34006.0    0.4124\n",
       "26     shop_6      shop_2    36586.0    0.0000\n",
       "27     shop_6      shop_3   213697.0    0.2546\n",
       "28     shop_6      shop_4   454601.0    0.0000\n",
       "29     shop_6      shop_5    45675.0    0.4710"
      ]
     },
     "execution_count": 61,
     "metadata": {},
     "output_type": "execute_result"
    }
   ],
   "source": [
    "p_value_table"
   ]
  },
  {
   "cell_type": "markdown",
   "metadata": {},
   "source": [
    "##### As you can see all possible combinatios of price comparison between shops included in the table. \n",
    "##### If you are thinking about dublicated records above, do not worry this was on purpose\n",
    "##### We will use the table as is"
   ]
  },
  {
   "cell_type": "code",
   "execution_count": 62,
   "metadata": {},
   "outputs": [
    {
     "data": {
      "text/html": [
       "<div>\n",
       "<style scoped>\n",
       "    .dataframe tbody tr th:only-of-type {\n",
       "        vertical-align: middle;\n",
       "    }\n",
       "\n",
       "    .dataframe tbody tr th {\n",
       "        vertical-align: top;\n",
       "    }\n",
       "\n",
       "    .dataframe thead th {\n",
       "        text-align: right;\n",
       "    }\n",
       "</style>\n",
       "<table border=\"1\" class=\"dataframe\">\n",
       "  <thead>\n",
       "    <tr style=\"text-align: right;\">\n",
       "      <th></th>\n",
       "      <th>p_values</th>\n",
       "    </tr>\n",
       "    <tr>\n",
       "      <th>first_shop</th>\n",
       "      <th></th>\n",
       "    </tr>\n",
       "  </thead>\n",
       "  <tbody>\n",
       "    <tr>\n",
       "      <th>shop_1</th>\n",
       "      <td>0.24566</td>\n",
       "    </tr>\n",
       "    <tr>\n",
       "      <th>shop_2</th>\n",
       "      <td>0.00002</td>\n",
       "    </tr>\n",
       "    <tr>\n",
       "      <th>shop_3</th>\n",
       "      <td>0.20790</td>\n",
       "    </tr>\n",
       "    <tr>\n",
       "      <th>shop_4</th>\n",
       "      <td>0.00004</td>\n",
       "    </tr>\n",
       "    <tr>\n",
       "      <th>shop_5</th>\n",
       "      <td>0.24426</td>\n",
       "    </tr>\n",
       "    <tr>\n",
       "      <th>shop_6</th>\n",
       "      <td>0.22760</td>\n",
       "    </tr>\n",
       "  </tbody>\n",
       "</table>\n",
       "</div>"
      ],
      "text/plain": [
       "            p_values\n",
       "first_shop          \n",
       "shop_1       0.24566\n",
       "shop_2       0.00002\n",
       "shop_3       0.20790\n",
       "shop_4       0.00004\n",
       "shop_5       0.24426\n",
       "shop_6       0.22760"
      ]
     },
     "execution_count": 62,
     "metadata": {},
     "output_type": "execute_result"
    }
   ],
   "source": [
    "p_value_table.groupby(\"first_shop\").agg({\"p_values\": \"mean\"})"
   ]
  },
  {
   "cell_type": "markdown",
   "metadata": {},
   "source": [
    "##### Here as you can see we took the avarage of p-values to understand how much these shops are different from each other interms of price\n",
    "##### If the p-value is less than \"0.05\" we can say that there is a significant difference between shops as we stated in out hypotesis\n",
    "\n",
    "\n"
   ]
  },
  {
   "cell_type": "markdown",
   "metadata": {},
   "source": [
    "##### Based on this information Statisticly shop_2 and shop_4 is different from other shops interms of price. And this difference can not be by chance.\n",
    "\n",
    "##### For other shops we can not say that"
   ]
  },
  {
   "cell_type": "markdown",
   "metadata": {},
   "source": [
    "##### Now we know that the 2 shops mentioned above are different from other shops interms of price customers willing to pay.\n",
    "\n",
    "##### As our goal is to ensure maximum profit we need to have different prices in these 2 shops as they are not alike with any of the shops including each other.(check p-value table line 7)\n",
    "\n",
    "##### For other shops which are not statisticly different from each other interms of price, we can set the same price.\n",
    "\n",
    "##### As company policy we can decide that item price should be same across the shops. But we are not going to do that."
   ]
  },
  {
   "cell_type": "markdown",
   "metadata": {},
   "source": [
    "### Confidence intervals"
   ]
  },
  {
   "cell_type": "markdown",
   "metadata": {},
   "source": [
    "##### As we decided to go on with different prices we need to determine different confidence intervals. "
   ]
  },
  {
   "cell_type": "code",
   "execution_count": 63,
   "metadata": {},
   "outputs": [
    {
     "data": {
      "text/plain": [
       "(35.803488556367476, 36.7997387818449)"
      ]
     },
     "execution_count": 63,
     "metadata": {},
     "output_type": "execute_result"
    }
   ],
   "source": [
    "alike_shops = [\"shop_1\", \"shop_3\",\"shop_5\", \"shop_6\"] # alike shops interms of price\n",
    "shop_1356 = df[(df[\"shop_id\"].isin(alike_shops))] # here we are gathering them to calculate confidence interval\n",
    "shop_1356_con_int =sms.DescrStatsW(shop_1356[\"price\"]).tconfint_mean() # here we are calculating confidence interval\n",
    "shop_1356_con_int"
   ]
  },
  {
   "cell_type": "markdown",
   "metadata": {},
   "source": [
    "##### Here we calculated confidence interval for alike shops"
   ]
  },
  {
   "cell_type": "code",
   "execution_count": 64,
   "metadata": {},
   "outputs": [
    {
     "data": {
      "text/plain": [
       "(33.244221031281384, 36.24683640338621)"
      ]
     },
     "execution_count": 64,
     "metadata": {},
     "output_type": "execute_result"
    }
   ],
   "source": [
    "shop_2_con_int = sms.DescrStatsW(shop_2[\"price\"]).tconfint_mean() \n",
    "shop_2_con_int"
   ]
  },
  {
   "cell_type": "markdown",
   "metadata": {},
   "source": [
    "##### Here we calculated confidence interval for shop_2"
   ]
  },
  {
   "cell_type": "code",
   "execution_count": 65,
   "metadata": {},
   "outputs": [
    {
     "data": {
      "text/plain": [
       "(39.891734916786355, 41.15449478737718)"
      ]
     },
     "execution_count": 65,
     "metadata": {},
     "output_type": "execute_result"
    }
   ],
   "source": [
    "shop_4_con_int = sms.DescrStatsW(shop_4[\"price\"]).tconfint_mean()\n",
    "shop_4_con_int"
   ]
  },
  {
   "cell_type": "markdown",
   "metadata": {},
   "source": [
    "##### Here we calculated confidence interval for shop_4"
   ]
  },
  {
   "cell_type": "markdown",
   "metadata": {},
   "source": [
    "### Simulations of Profit"
   ]
  },
  {
   "cell_type": "markdown",
   "metadata": {},
   "source": [
    "#### We will calculate the profit with the minimum and maximum values of the confidence intervals "
   ]
  },
  {
   "cell_type": "markdown",
   "metadata": {},
   "source": [
    "#### First lets calculate the profit with max value of confidence intervals"
   ]
  },
  {
   "cell_type": "markdown",
   "metadata": {},
   "source": [
    "##### Shop_1356 Revenue Calculation"
   ]
  },
  {
   "cell_type": "code",
   "execution_count": 66,
   "metadata": {},
   "outputs": [
    {
     "name": "stdout",
     "output_type": "stream",
     "text": [
      "Revenue: 10524.725291607641\n"
     ]
    }
   ],
   "source": [
    "freq_1356 = len(shop_1356[shop_1356[\"price\"] >= shop_1356_con_int[1]]) # here we determined that how many people is willing to pay more than our max confidence interval \n",
    "revenue_1356 = freq_1356 * shop_1356_con_int[1] # here we multiplied what we found above with max confidence interval to calculate revenue\n",
    "print(f'Revenue: {revenue_1356}')"
   ]
  },
  {
   "cell_type": "markdown",
   "metadata": {},
   "source": [
    "##### Shop_2 Revenue Calculation"
   ]
  },
  {
   "cell_type": "code",
   "execution_count": 67,
   "metadata": {},
   "outputs": [
    {
     "name": "stdout",
     "output_type": "stream",
     "text": [
      "Revenue: 724.9367280677243\n"
     ]
    }
   ],
   "source": [
    "freq_2 = len(shop_2[shop_2[\"price\"] >= shop_2_con_int[1]]) # here we determined that how many people is willing to pay more than our max confidence interval \n",
    "revenue_2 = freq_2 * shop_2_con_int[1] # here we multiplied what we found above with max confidence interval to calculate revenue\n",
    "print(f'Revenue: {revenue_2}')"
   ]
  },
  {
   "cell_type": "markdown",
   "metadata": {},
   "source": [
    "##### Shop_1356 Revenue Calculation"
   ]
  },
  {
   "cell_type": "code",
   "execution_count": 68,
   "metadata": {},
   "outputs": [
    {
     "name": "stdout",
     "output_type": "stream",
     "text": [
      "Revenue: 20412.629414539082\n"
     ]
    }
   ],
   "source": [
    "freq_4 = len(shop_4[shop_4[\"price\"] >= shop_4_con_int[1]]) # here we determined that how many people is willing to pay more than our max confidence interval \n",
    "revenue_4 = freq_4 * shop_4_con_int[1] # here we multiplied what we found above with max confidence interval to calculate revenue\n",
    "print(f'Revenue: {revenue_4}')"
   ]
  },
  {
   "cell_type": "code",
   "execution_count": 69,
   "metadata": {},
   "outputs": [
    {
     "data": {
      "text/plain": [
       "31662.29"
      ]
     },
     "execution_count": 69,
     "metadata": {},
     "output_type": "execute_result"
    }
   ],
   "source": [
    "total_revenue_with_max = revenue_1356 + revenue_2 + revenue_4 # here we calculate total revenue\n",
    "total_revenue_with_max.round(2)"
   ]
  },
  {
   "cell_type": "markdown",
   "metadata": {},
   "source": [
    "##### As you can see that our total revenue is 31662.29 for the scenario that we decided to go on max value of confidence interval "
   ]
  },
  {
   "cell_type": "markdown",
   "metadata": {},
   "source": [
    "##### Now lets calculate the profit with min value of confidence intervals"
   ]
  },
  {
   "cell_type": "markdown",
   "metadata": {},
   "source": [
    "##### Shop_1356 Revenue Calculation"
   ]
  },
  {
   "cell_type": "code",
   "execution_count": 70,
   "metadata": {},
   "outputs": [
    {
     "name": "stdout",
     "output_type": "stream",
     "text": [
      "Revenue: 12602.827971841352\n"
     ]
    }
   ],
   "source": [
    "freq_1356 = len(shop_1356[shop_1356[\"price\"] >= shop_1356_con_int[0]]) # here we determined that how many people is willing to pay more than our max confidence interval \n",
    "revenue_1356 = freq_1356 * shop_1356_con_int[0] # here we multiplied what we found above with max confidence interval to calculate revenue\n",
    "print(f'Revenue: {revenue_1356}')"
   ]
  },
  {
   "cell_type": "markdown",
   "metadata": {},
   "source": [
    "##### Shop_2 Revenue Calculation"
   ]
  },
  {
   "cell_type": "code",
   "execution_count": 71,
   "metadata": {},
   "outputs": [
    {
     "name": "stdout",
     "output_type": "stream",
     "text": [
      "Revenue: 1662.2110515640693\n"
     ]
    }
   ],
   "source": [
    "freq_2 = len(shop_2[shop_2[\"price\"] >= shop_2_con_int[0]]) # here we determined that how many people is willing to pay more than our max confidence interval \n",
    "revenue_2 = freq_2 * shop_2_con_int[0] # here we multiplied what we found above with max confidence interval to calculate revenue\n",
    "print(f'Revenue: {revenue_2}')"
   ]
  },
  {
   "cell_type": "markdown",
   "metadata": {},
   "source": [
    "##### Shop_1356 Revenue Calculation"
   ]
  },
  {
   "cell_type": "code",
   "execution_count": 72,
   "metadata": {},
   "outputs": [
    {
     "name": "stdout",
     "output_type": "stream",
     "text": [
      "Revenue: 21780.88726456535\n"
     ]
    }
   ],
   "source": [
    "freq_4 = len(shop_4[shop_4[\"price\"] >= shop_4_con_int[0]]) # here we determined that how many people is willing to pay more than our max confidence interval \n",
    "revenue_4 = freq_4 * shop_4_con_int[0] # here we multiplied what we found above with max confidence interval to calculate revenue\n",
    "print(f'Revenue: {revenue_4}')"
   ]
  },
  {
   "cell_type": "code",
   "execution_count": 73,
   "metadata": {},
   "outputs": [
    {
     "data": {
      "text/plain": [
       "36045.93"
      ]
     },
     "execution_count": 73,
     "metadata": {},
     "output_type": "execute_result"
    }
   ],
   "source": [
    "total_revenue_with_min = revenue_1356 + revenue_2 + revenue_4 # here we calculate total revenue\n",
    "total_revenue_with_min.round(2)"
   ]
  },
  {
   "cell_type": "markdown",
   "metadata": {},
   "source": [
    "##### As you can see that our total revenue is 36045.93 for the scenario that we decided to go on min value of confidence interval "
   ]
  },
  {
   "cell_type": "markdown",
   "metadata": {},
   "source": [
    "### Conclusion"
   ]
  },
  {
   "cell_type": "markdown",
   "metadata": {},
   "source": [
    "##### In this project our goal was to set optimum price for a particular item being sold in different shops\n",
    "\n",
    "##### We evaluated the survey results by applying A/B test to see wheter there is a statisticly significant difference between prices people wish to pay across the shops\n",
    "\n",
    "##### We found that 2 shops is are not alike with any other shops according to our A/B test result\n",
    "\n",
    "##### Then we determined to confidence intervals for different shops\n",
    "\n",
    "##### And Finally we simulate the sales according to maximum and minimum values of confidence interval"
   ]
  },
  {
   "cell_type": "markdown",
   "metadata": {},
   "source": [
    "##### According to our foundings above setting the price to minimum value of confidence interval resulted in higher revenue amount. \n",
    "##### However it does not mean that it is more profitable to sell this product with min value of confidence interval as we do not know what is the cost for this product.\n",
    "##### But our job is done here. We made the necessary tests and provided the information needed."
   ]
  }
 ],
 "metadata": {
  "kernelspec": {
   "display_name": "Python 3",
   "language": "python",
   "name": "python3"
  },
  "language_info": {
   "codemirror_mode": {
    "name": "ipython",
    "version": 3
   },
   "file_extension": ".py",
   "mimetype": "text/x-python",
   "name": "python",
   "nbconvert_exporter": "python",
   "pygments_lexer": "ipython3",
   "version": "3.8.5"
  }
 },
 "nbformat": 4,
 "nbformat_minor": 4
}
